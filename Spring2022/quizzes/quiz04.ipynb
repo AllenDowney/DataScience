{
 "cells": [
  {
   "cell_type": "markdown",
   "metadata": {
    "id": "HPl5lEUDNd1_"
   },
   "source": [
    "# Quiz 4\n",
    "\n",
    "BEFORE YOU START THIS QUIZ:\n",
    "\n",
    "1. Click on \"Copy to Drive\" to make a copy of the quiz,\n",
    "\n",
    "2. Click on \"Share\",\n",
    "    \n",
    "3. Click on \"Change\" and select \"Anyone with this link can edit\"\n",
    "    \n",
    "4. Click \"Copy link\" and\n",
    "\n",
    "5. Paste the link into [this Canvas assignment](https://canvas.olin.edu/courses/390/assignments/6207).\n",
    "\n",
    "DO THIS BEFORE YOU START THE QUIZ."
   ]
  },
  {
   "cell_type": "markdown",
   "metadata": {},
   "source": [
    "The following cells define functions we have used before."
   ]
  },
  {
   "cell_type": "code",
   "execution_count": 1,
   "metadata": {
    "id": "yPPzR2TGNd2D"
   },
   "outputs": [],
   "source": [
    "import pandas as pd\n",
    "import numpy as np\n",
    "import matplotlib.pyplot as plt\n",
    "import seaborn as sns"
   ]
  },
  {
   "cell_type": "code",
   "execution_count": 2,
   "metadata": {
    "id": "14n5eKymNd2E"
   },
   "outputs": [],
   "source": [
    "def decorate(**options):\n",
    "    \"\"\"Decorate the current axes.\n",
    "\n",
    "    Call decorate with keyword arguments like\n",
    "    decorate(title='Title',\n",
    "             xlabel='x',\n",
    "             ylabel='y')\n",
    "\n",
    "    The keyword arguments can be any of the axis properties\n",
    "    https://matplotlib.org/api/axes_api.html\n",
    "    \"\"\"\n",
    "    ax = plt.gca()\n",
    "    ax.set(**options)\n",
    "\n",
    "    handles, labels = ax.get_legend_handles_labels()\n",
    "    if handles:\n",
    "        ax.legend(handles, labels)\n",
    "\n",
    "    plt.tight_layout()"
   ]
  },
  {
   "cell_type": "markdown",
   "metadata": {},
   "source": [
    "The following cell installs `empiricaldist` if needed."
   ]
  },
  {
   "cell_type": "code",
   "execution_count": 3,
   "metadata": {},
   "outputs": [],
   "source": [
    "try:\n",
    "    import empiricaldist\n",
    "except ImportError:\n",
    "    !pip install empiricaldist"
   ]
  },
  {
   "cell_type": "markdown",
   "metadata": {},
   "source": [
    "## Heights and Weights"
   ]
  },
  {
   "cell_type": "markdown",
   "metadata": {},
   "source": [
    "The following cell downloads data from the Anthropometric Survey of US Army Personnel, abbreviated ANSUR II."
   ]
  },
  {
   "cell_type": "code",
   "execution_count": 4,
   "metadata": {
    "colab": {
     "base_uri": "https://localhost:8080/"
    },
    "id": "wGS-6gIrNd2F",
    "outputId": "c7d3fa7d-397d-43bc-c666-0c45f4442c54"
   },
   "outputs": [],
   "source": [
    "from os.path import basename, exists\n",
    "\n",
    "\n",
    "def download(url):\n",
    "    filename = basename(url)\n",
    "    if not exists(filename):\n",
    "        from urllib.request import urlretrieve\n",
    "\n",
    "        local, _ = urlretrieve(url, filename)\n",
    "        print(\"Downloaded \" + local)\n",
    "\n",
    "\n",
    "download(\n",
    "    \"https://github.com/AllenDowney/DataScience/raw/master/data/ANSURIIFEMALEPublic.csv\"\n",
    ")"
   ]
  },
  {
   "cell_type": "markdown",
   "metadata": {
    "id": "iqu7xLNvNd2G"
   },
   "source": [
    "The following cell loads the data for the 1,986 female participants in the survey."
   ]
  },
  {
   "cell_type": "code",
   "execution_count": 5,
   "metadata": {
    "colab": {
     "base_uri": "https://localhost:8080/"
    },
    "id": "wHn3XnHpNd2G",
    "outputId": "416ba9c5-27f2-4fda-f128-3642101a2160"
   },
   "outputs": [],
   "source": [
    "ansur_female = pd.read_csv(\"ANSURIIFEMALEPublic.csv\", encoding=\"ISO-8859-1\")\n",
    "ansur_female.shape"
   ]
  },
  {
   "cell_type": "markdown",
   "metadata": {},
   "source": [
    "The column named `stature` contains height in mm, which I will convert to cm."
   ]
  },
  {
   "cell_type": "code",
   "execution_count": 6,
   "metadata": {},
   "outputs": [],
   "source": [
    "# divide by 10 to convert from mm to cm\n",
    "\n",
    "height = ansur_female[\"stature\"] / 10"
   ]
  },
  {
   "cell_type": "markdown",
   "metadata": {},
   "source": [
    "**Question 1:** Make a `Pmf` object that contains the PMF of the values in `height` and plot it as a line plot.\n",
    "\n",
    "Label the axes of the figure (you can use `decorate` or Pyplot functions)."
   ]
  },
  {
   "cell_type": "code",
   "execution_count": 7,
   "metadata": {},
   "outputs": [],
   "source": []
  },
  {
   "cell_type": "markdown",
   "metadata": {},
   "source": [
    "**NOTE:** In the interest of time, you do not have to label the axes for the other figures on this quiz, but if you have time, it's a good habit to practice."
   ]
  },
  {
   "cell_type": "markdown",
   "metadata": {},
   "source": [
    "**Question 2:** Compute the mean and standard deviation of the values in `height`.\n",
    "Then create a `norm` object (defined in `scipy.stats`) with the same mean and standard deviation.\n",
    "Use the `norm` object to compute the PDF of the normal distribution for a range of values of `xs` from 140 to 190 cm.\n",
    "Use `plt.plot` to plot the results; it should look like a bell curve."
   ]
  },
  {
   "cell_type": "code",
   "execution_count": 8,
   "metadata": {},
   "outputs": [],
   "source": [
    "# Here's the import statement you'll need\n",
    "# and a range of values for the xs\n",
    "\n",
    "from scipy.stats import norm\n",
    "\n",
    "xs = np.linspace(140, 190)"
   ]
  },
  {
   "cell_type": "code",
   "execution_count": 9,
   "metadata": {
    "colab": {
     "base_uri": "https://localhost:8080/",
     "height": 909
    },
    "id": "X1ONOjdZQaXc",
    "outputId": "ee3298ad-4eb4-40b6-efc9-27a4609ef055"
   },
   "outputs": [],
   "source": []
  },
  {
   "cell_type": "markdown",
   "metadata": {},
   "source": [
    "**Question 3:** Use `sns.kdeplot` to make and plot a Kernel Density Estimate (KDE) for the values in `height`. Also plot the PDF of the normal distribution you computed in the previous question.\n",
    "\n",
    "You should see that the KDE fits the PDF pretty well."
   ]
  },
  {
   "cell_type": "code",
   "execution_count": 10,
   "metadata": {},
   "outputs": [],
   "source": []
  },
  {
   "cell_type": "markdown",
   "metadata": {},
   "source": [
    "**Question 4:** Make a `Cdf` object that represents the CDF of the values in `height` and plot it as a line plot."
   ]
  },
  {
   "cell_type": "code",
   "execution_count": 11,
   "metadata": {},
   "outputs": [],
   "source": []
  },
  {
   "cell_type": "markdown",
   "metadata": {},
   "source": [
    "**Question 5:** Using a `norm` object again, compute the CDF of a normal distribution with the same mean and standard deviation as `height`, evaluated at a range of values between 140 and 190 cm. Use `plt.plot` to plot the results.\n",
    "\n",
    "Also plot the CDF of the values in `height`.\n",
    "\n",
    "You should see that the distribution of heights is well approximated by a normal distribution."
   ]
  },
  {
   "cell_type": "code",
   "execution_count": 12,
   "metadata": {},
   "outputs": [],
   "source": []
  },
  {
   "cell_type": "markdown",
   "metadata": {},
   "source": [
    "**Question 7:** Using the `Cdf` object, compute the fraction of survey participants who are between 160 and 170 cm (excluding 160 and including 170)."
   ]
  },
  {
   "cell_type": "code",
   "execution_count": 13,
   "metadata": {},
   "outputs": [],
   "source": []
  },
  {
   "cell_type": "markdown",
   "metadata": {},
   "source": [
    "**Question 8:** Using the `Cdf` object again, compute the interquartile range (IQR) of this distribution."
   ]
  },
  {
   "cell_type": "code",
   "execution_count": 14,
   "metadata": {},
   "outputs": [],
   "source": []
  },
  {
   "cell_type": "markdown",
   "metadata": {},
   "source": [
    "You can ignore the following cells."
   ]
  },
  {
   "cell_type": "code",
   "execution_count": 15,
   "metadata": {},
   "outputs": [],
   "source": []
  },
  {
   "cell_type": "code",
   "execution_count": 16,
   "metadata": {},
   "outputs": [],
   "source": []
  },
  {
   "cell_type": "code",
   "execution_count": 17,
   "metadata": {},
   "outputs": [],
   "source": []
  },
  {
   "cell_type": "code",
   "execution_count": 18,
   "metadata": {},
   "outputs": [],
   "source": []
  },
  {
   "cell_type": "markdown",
   "metadata": {},
   "source": [
    "## Cities and Populations\n",
    "\n",
    "The following cell downloads a dataset from the U.S. Census Bureau that contains the populations of cities and towns in the United States."
   ]
  },
  {
   "cell_type": "code",
   "execution_count": 19,
   "metadata": {},
   "outputs": [],
   "source": [
    "download(\n",
    "    \"https://www2.census.gov/programs-surveys/popest/datasets/2010-2020/cities/SUB-EST2020_ALL.csv\"\n",
    ")"
   ]
  },
  {
   "cell_type": "markdown",
   "metadata": {},
   "source": [
    "The following cell reads the data."
   ]
  },
  {
   "cell_type": "code",
   "execution_count": 20,
   "metadata": {},
   "outputs": [],
   "source": [
    "pop_frame = pd.read_csv(\"SUB-EST2020_ALL.csv\", encoding=\"ISO-8859-1\")\n",
    "pop_frame.shape"
   ]
  },
  {
   "cell_type": "markdown",
   "metadata": {},
   "source": [
    "The following cell selects the column containing populations and removes the entries with population 0."
   ]
  },
  {
   "cell_type": "code",
   "execution_count": 21,
   "metadata": {},
   "outputs": [],
   "source": [
    "pop_series = pop_frame[\"POPESTIMATE2020\"].replace(0, np.nan).dropna()"
   ]
  },
  {
   "cell_type": "markdown",
   "metadata": {},
   "source": [
    "This dataset includes population totals for states and counties, in addition to cities and towns, but for the sake of simplicity, we won't bother to separate them."
   ]
  },
  {
   "cell_type": "markdown",
   "metadata": {},
   "source": [
    "**Question 9**: Plot the CDF of the populations in this dataset with the x-axis on a log scale."
   ]
  },
  {
   "cell_type": "code",
   "execution_count": 22,
   "metadata": {},
   "outputs": [],
   "source": []
  },
  {
   "cell_type": "markdown",
   "metadata": {},
   "source": [
    "**Question 10:** People who study [human geography](https://www.youtube.com/watch?v=ON4oIKza7bw) often describe the distribution of population sizes using a [rank-size plot](https://en.wikipedia.org/wiki/Rank%E2%80%93size_distribution), which shows populations on the y-axis and \"ranks\" on the x-axis.\n",
    "\n",
    "The rank of the biggest city is 1, the rank of the second-biggest city is 2, and so on.\n",
    "\n",
    "Use `sort_values` to sort the values in `pop_series`; then use `np.arange` to make an array of ranks starting from 1.\n",
    "\n",
    "Plot the sorted populations on the x-axis and the ranks on the y-axis, and put the y-axis on a log scale.\n",
    "\n",
    "If you compare the result to the previous figure, you might note a relationship between the rank-size plot and the CDF."
   ]
  },
  {
   "cell_type": "code",
   "execution_count": 23,
   "metadata": {},
   "outputs": [],
   "source": []
  },
  {
   "cell_type": "code",
   "execution_count": 24,
   "metadata": {},
   "outputs": [],
   "source": []
  },
  {
   "cell_type": "code",
   "execution_count": null,
   "metadata": {},
   "outputs": [],
   "source": []
  }
 ],
 "metadata": {
  "celltoolbar": "Tags",
  "colab": {
   "name": "gss_relig.ipynb",
   "provenance": []
  },
  "kernelspec": {
   "display_name": "Python 3",
   "language": "python",
   "name": "python3"
  },
  "language_info": {
   "codemirror_mode": {
    "name": "ipython",
    "version": 3
   },
   "file_extension": ".py",
   "mimetype": "text/x-python",
   "name": "python",
   "nbconvert_exporter": "python",
   "pygments_lexer": "ipython3",
   "version": "3.7.7"
  }
 },
 "nbformat": 4,
 "nbformat_minor": 1
}
