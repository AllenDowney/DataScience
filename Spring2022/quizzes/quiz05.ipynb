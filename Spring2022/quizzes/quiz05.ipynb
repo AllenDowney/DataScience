{
 "cells": [
  {
   "cell_type": "markdown",
   "metadata": {
    "id": "HPl5lEUDNd1_"
   },
   "source": [
    "# Quiz 5\n",
    "\n",
    "BEFORE YOU START THIS QUIZ:\n",
    "\n",
    "1. Click on \"Copy to Drive\" to make a copy of the quiz,\n",
    "\n",
    "2. Click on \"Share\",\n",
    "    \n",
    "3. Click on \"Change\" and select \"Anyone with this link can edit\"\n",
    "    \n",
    "4. Click \"Copy link\" and\n",
    "\n",
    "5. Paste the link into [this Canvas assignment](https://canvas.olin.edu/courses/390/assignments/6271).\n",
    "\n",
    "DO THIS BEFORE YOU START THE QUIZ."
   ]
  },
  {
   "cell_type": "markdown",
   "metadata": {},
   "source": [
    "The following cells define functions we have used before."
   ]
  },
  {
   "cell_type": "code",
   "execution_count": 2,
   "metadata": {
    "id": "yPPzR2TGNd2D"
   },
   "outputs": [],
   "source": [
    "import pandas as pd\n",
    "import numpy as np\n",
    "import matplotlib.pyplot as plt\n",
    "import seaborn as sns"
   ]
  },
  {
   "cell_type": "code",
   "execution_count": 3,
   "metadata": {
    "id": "14n5eKymNd2E"
   },
   "outputs": [],
   "source": [
    "def decorate(**options):\n",
    "    \"\"\"Decorate the current axes.\n",
    "\n",
    "    Call decorate with keyword arguments like\n",
    "    decorate(title='Title',\n",
    "             xlabel='x',\n",
    "             ylabel='y')\n",
    "\n",
    "    The keyword arguments can be any of the axis properties\n",
    "    https://matplotlib.org/api/axes_api.html\n",
    "    \"\"\"\n",
    "    ax = plt.gca()\n",
    "    ax.set(**options)\n",
    "\n",
    "    handles, labels = ax.get_legend_handles_labels()\n",
    "    if handles:\n",
    "        ax.legend(handles, labels)\n",
    "\n",
    "    plt.tight_layout()"
   ]
  },
  {
   "cell_type": "markdown",
   "metadata": {},
   "source": [
    "The following cell installs `empiricaldist` if needed."
   ]
  },
  {
   "cell_type": "code",
   "execution_count": 4,
   "metadata": {},
   "outputs": [],
   "source": [
    "try:\n",
    "    import empiricaldist\n",
    "except ImportError:\n",
    "    !pip install empiricaldist"
   ]
  },
  {
   "cell_type": "markdown",
   "metadata": {},
   "source": [
    "## Vaccines and GDP\n",
    "\n",
    "This example is based on an article in *The Economist*,\n",
    "[Conspiracy theories about covid-19 vaccines may prevent herd immunity](https://www.economist.com/graphic-detail/2020/08/29/conspiracy-theories-about-covid-19-vaccines-may-prevent-herd-immunity).\n",
    "\n",
    "Thanks to a friend at *The Economist*, I obtained the data used to generate the figures in this article.  Ultimately, the sources are [a poll conducted by the Wellcome Trust](https://wellcome.org/reports/wellcome-global-monitor/2018) and data from the World Bank.\n",
    "\n",
    "The following cell downloads the data:"
   ]
  },
  {
   "cell_type": "code",
   "execution_count": 5,
   "metadata": {
    "colab": {
     "base_uri": "https://localhost:8080/"
    },
    "id": "wGS-6gIrNd2F",
    "outputId": "c7d3fa7d-397d-43bc-c666-0c45f4442c54"
   },
   "outputs": [],
   "source": [
    "from os.path import basename, exists\n",
    "\n",
    "\n",
    "def download(url):\n",
    "    filename = basename(url)\n",
    "    if not exists(filename):\n",
    "        from urllib.request import urlretrieve\n",
    "\n",
    "        local, _ = urlretrieve(url, filename)\n",
    "        print(\"Downloaded \" + local)\n",
    "\n",
    "\n",
    "download(\n",
    "    \"https://github.com/AllenDowney/ElementsOfDataScience/raw/master/data/vaxplot.csv\"\n",
    ")"
   ]
  },
  {
   "cell_type": "markdown",
   "metadata": {
    "id": "iqu7xLNvNd2G"
   },
   "source": [
    "The following cell reads the data into a Pandas `DataFrame`."
   ]
  },
  {
   "cell_type": "code",
   "execution_count": 6,
   "metadata": {
    "colab": {
     "base_uri": "https://localhost:8080/"
    },
    "id": "wHn3XnHpNd2G",
    "outputId": "416ba9c5-27f2-4fda-f128-3642101a2160"
   },
   "outputs": [],
   "source": [
    "df = pd.read_csv(\"vaxplot.csv\", index_col=0)\n",
    "df.shape"
   ]
  },
  {
   "cell_type": "code",
   "execution_count": 7,
   "metadata": {
    "colab": {
     "base_uri": "https://localhost:8080/"
    },
    "id": "wHn3XnHpNd2G",
    "outputId": "416ba9c5-27f2-4fda-f128-3642101a2160"
   },
   "outputs": [],
   "source": [
    "df.head()"
   ]
  },
  {
   "cell_type": "markdown",
   "metadata": {},
   "source": [
    "This dataset contains one row for each of 144 countries (out of approximately 195). The columns we will use are:\n",
    "\n",
    "* `vaccinesafe`: Fraction of respondents who believe vaccines are safe.\n",
    "\n",
    "* `trustscience`: Fraction who trust science (index based on multiple questions).\n",
    "\n",
    "* `trustdoctor`: Fraction who trust doctors (index based on multiple questions).\n",
    "\n",
    "* `gdppcppp`: Gross Domestic Product (a measure of formal economic activity) per capita, adjusted to reflect the cost of living in each country.\n",
    "\n",
    "* `country`: Country name.\n",
    "\n",
    "* `region2`: Which of several global regions the country is in (for a loose definition of \"region\")."
   ]
  },
  {
   "cell_type": "markdown",
   "metadata": {},
   "source": [
    "I'll add a new column with the log (base 10) of `gdppcppp`"
   ]
  },
  {
   "cell_type": "code",
   "execution_count": 8,
   "metadata": {},
   "outputs": [],
   "source": [
    "df[\"log_gdp\"] = np.log10(df[\"gdppcppp\"])\n",
    "df[\"log_gdp\"]"
   ]
  },
  {
   "cell_type": "markdown",
   "metadata": {},
   "source": [
    "The dataset is mostly complete, but there are a few countries where we don't have GDP data."
   ]
  },
  {
   "cell_type": "code",
   "execution_count": 9,
   "metadata": {},
   "outputs": [],
   "source": [
    "df.isna().sum()"
   ]
  },
  {
   "cell_type": "markdown",
   "metadata": {},
   "source": [
    "**Question 1:** Use `Cdf` from `empiricaldist` to compute the CDF of `log_gdp` across the countries in the dataset. Assign the result to variable named `cdf_gdp`.\n",
    "Plot the CDF and label the axes."
   ]
  },
  {
   "cell_type": "code",
   "execution_count": 10,
   "metadata": {},
   "outputs": [],
   "source": []
  },
  {
   "cell_type": "markdown",
   "metadata": {},
   "source": [
    "**Question 2:** The following cell plots the `Cdf` you computed in the previous question along with a Gaussian distribution with the same mean and standard deviation.\n",
    "\n",
    "In the cell below it, write a sentence or two to interpret the results. If the distribution of `log_gdp` is approximately Gaussian, what does that mean about the distribution of GDP?"
   ]
  },
  {
   "cell_type": "code",
   "execution_count": 11,
   "metadata": {},
   "outputs": [],
   "source": [
    "from scipy.stats import norm\n",
    "\n",
    "mu, sigma = cdf_gdp.mean(), cdf_gdp.std()\n",
    "xs = cdf_gdp.qs\n",
    "ys = norm(mu, sigma).cdf(xs)\n",
    "plt.plot(xs, ys, color=\"gray\", label=\"Normal CDF\")\n",
    "\n",
    "cdf_gdp.plot()\n",
    "\n",
    "decorate(xlabel=\"GDP per person at PPP (log10 USD)\", ylabel=\"CDF\")"
   ]
  },
  {
   "cell_type": "code",
   "execution_count": 12,
   "metadata": {},
   "outputs": [],
   "source": []
  },
  {
   "cell_type": "markdown",
   "metadata": {},
   "source": [
    "**Question 3:** Make a scatterplot that shows `log_gdp` on the x-axis and `vaccinesafe` on the y-axis. Adjust the size and transparency of the markers so they don't overlap too much.\n",
    "\n",
    "Optionally, you can use the following function to label some of the markers with country names. You might find it interesting to label Togo, Ukraine, Belarus, and Japan."
   ]
  },
  {
   "cell_type": "code",
   "execution_count": 13,
   "metadata": {},
   "outputs": [],
   "source": [
    "import matplotlib.pyplot as plt\n",
    "\n",
    "\n",
    "def plot_name(df, name):\n",
    "    index = df[\"country\"] == name\n",
    "    x = df.loc[index, \"log_gdp\"]\n",
    "    y = df.loc[index, \"vaccinesafe\"]\n",
    "    plt.text(x, y, name)"
   ]
  },
  {
   "cell_type": "code",
   "execution_count": 14,
   "metadata": {},
   "outputs": [],
   "source": []
  },
  {
   "cell_type": "markdown",
   "metadata": {},
   "source": [
    "**Question 4:** Use `linregress` from `scipy.stats` to compute the line of best fit to the relationship between `vaccinesafe` and `log_gdp`. Display the slope of the fitted line."
   ]
  },
  {
   "cell_type": "code",
   "execution_count": 15,
   "metadata": {},
   "outputs": [],
   "source": []
  },
  {
   "cell_type": "markdown",
   "metadata": {},
   "source": [
    "**Question 5:** Use the results from the previous question to compute the line of best fit for a range of values of `log_gdp` from 3 to 5.\n",
    "Plot the line of best fit on top of the scatter plot and confirm that the line passes through the visual center of the data."
   ]
  },
  {
   "cell_type": "code",
   "execution_count": 16,
   "metadata": {},
   "outputs": [],
   "source": []
  },
  {
   "cell_type": "markdown",
   "metadata": {},
   "source": [
    "**Question 6:** Based on the `log_gdp` of the United States, compute the value of `vaccinesafe` we would expect based on the line of best fit. What is the difference between this predicted value and the actual value?"
   ]
  },
  {
   "cell_type": "code",
   "execution_count": 26,
   "metadata": {},
   "outputs": [],
   "source": [
    "# you can use this code to select a single row from `df`\n",
    "\n",
    "index = (df[\"country\"] == \"United States\")\n",
    "row = df.loc[index]\n",
    "row"
   ]
  },
  {
   "cell_type": "code",
   "execution_count": 27,
   "metadata": {},
   "outputs": [],
   "source": []
  },
  {
   "cell_type": "markdown",
   "metadata": {},
   "source": [
    "**Question 7:** The following cell uses the Seaborn function `pairplot` to explore the pairwise relationships between `vaccinesafe`, `trustscience`, `trustdoctor`.\n",
    "The result is a matrix where the diagonal elements show the histogram of each variable and the off-diagonal elements show scatter plots of each pair.\n",
    "\n",
    "Based on these results, which pair of variables seem to be most strongly correlated?"
   ]
  },
  {
   "cell_type": "code",
   "execution_count": 17,
   "metadata": {},
   "outputs": [],
   "source": [
    "data = df[[\"vaccinesafe\", \"trustscience\", \"trustdoctor\"]]\n",
    "sns.pairplot(data)\n",
    "None"
   ]
  },
  {
   "cell_type": "code",
   "execution_count": 18,
   "metadata": {},
   "outputs": [],
   "source": []
  },
  {
   "cell_type": "markdown",
   "metadata": {},
   "source": [
    "**Question 8:** Compute a correlation matrix that shows the coefficient of correlation for each pair of variables (for just these three variables)."
   ]
  },
  {
   "cell_type": "code",
   "execution_count": 19,
   "metadata": {
    "colab": {
     "base_uri": "https://localhost:8080/",
     "height": 909
    },
    "id": "X1ONOjdZQaXc",
    "outputId": "ee3298ad-4eb4-40b6-efc9-27a4609ef055"
   },
   "outputs": [],
   "source": []
  },
  {
   "cell_type": "markdown",
   "metadata": {},
   "source": [
    "**Question 9:** The following cell makes a \"facet plot\" that shows a small scatter plot of `vaccinesafe` and `log_gdp` with the countries grouped by region. In which regions does the correlation between these two variables seem to be positive? "
   ]
  },
  {
   "cell_type": "code",
   "execution_count": 20,
   "metadata": {},
   "outputs": [],
   "source": [
    "g = sns.FacetGrid(df, col=\"region2\")\n",
    "g.map(sns.scatterplot, \"log_gdp\", \"vaccinesafe\")\n",
    "None"
   ]
  },
  {
   "cell_type": "code",
   "execution_count": 21,
   "metadata": {},
   "outputs": [],
   "source": []
  },
  {
   "cell_type": "markdown",
   "metadata": {},
   "source": [
    "**Question 10:** Use `groupby` to group the dataset by `region2` and then write a loop that uses `linregress` to estimate the slope of the relationship between `vaccinesafe` and `log_gdp`. When the loop runs, it should print each region name and the estimated slope.\n",
    "\n",
    "Hint: You might have to drop rows with missing data.\n",
    "Normally you want to drop only rows that are missing data you need, but in this case you can drop any row with missing data."
   ]
  },
  {
   "cell_type": "code",
   "execution_count": 28,
   "metadata": {},
   "outputs": [],
   "source": []
  },
  {
   "cell_type": "code",
   "execution_count": null,
   "metadata": {},
   "outputs": [],
   "source": []
  }
 ],
 "metadata": {
  "celltoolbar": "Tags",
  "colab": {
   "name": "gss_relig.ipynb",
   "provenance": []
  },
  "kernelspec": {
   "display_name": "Python 3 (ipykernel)",
   "language": "python",
   "name": "python3"
  },
  "language_info": {
   "codemirror_mode": {
    "name": "ipython",
    "version": 3
   },
   "file_extension": ".py",
   "mimetype": "text/x-python",
   "name": "python",
   "nbconvert_exporter": "python",
   "pygments_lexer": "ipython3",
   "version": "3.7.7"
  }
 },
 "nbformat": 4,
 "nbformat_minor": 1
}
