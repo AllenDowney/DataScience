{
 "cells": [
  {
   "cell_type": "markdown",
   "metadata": {},
   "source": [
    "# Quiz 6\n",
    "\n",
    "BEFORE YOU START THIS QUIZ:\n",
    "\n",
    "1. Click on \"Copy to Drive\" to make a copy of the quiz,\n",
    "\n",
    "2. Click on \"Share\",\n",
    "    \n",
    "3. Click on \"Change\" and select \"Anyone with this link can edit\"\n",
    "    \n",
    "4. Click \"Copy link\" and\n",
    "\n",
    "5. Paste the link into [this Canvas assignment](https://canvas.olin.edu/courses/390/assignments/6317).\n",
    "\n",
    "DO THIS BEFORE YOU START THE QUIZ."
   ]
  },
  {
   "cell_type": "code",
   "execution_count": 1,
   "metadata": {},
   "outputs": [],
   "source": [
    "import numpy as np\n",
    "import pandas as pd\n",
    "import matplotlib.pyplot as plt\n",
    "import seaborn as sns"
   ]
  },
  {
   "cell_type": "markdown",
   "metadata": {},
   "source": [
    "## Happiness\n",
    "\n",
    "Recently I read [Happiness and Life Satisfaction](https://ourworldindata.org/happiness-and-life-satisfaction)\n",
    "by Esteban Ortiz-Ospina and Max Roser, which discusses (among many other things) the relationship between income and happiness, both between countries, within countries, and over time.\n",
    "\n",
    "It cites the [World Happiness Report](https://worldhappiness.report/), which I skimmed looking for examples of multiple regression and sources of data.\n",
    "\n",
    "Their [Table 2.1](https://worldhappiness.report/ed/2020/social-environments-for-world-happiness/) reports the result of a multiple regression analysis that explores the relationship between happiness and six potentially predictive factors:\n",
    "\n",
    "**Logarithm base 10 of GDP:**\n",
    "\"GDP per capita is in terms of Purchasing\n",
    "Power Parity (PPP) adjusted to constant\n",
    "2011 international dollars, taken from\n",
    "the World Development Indicators\n",
    "(WDI) released by the World Bank in\n",
    "September 2017.\"\n",
    "\n",
    "**Social support:**\n",
    "\"The national average\n",
    "of the binary responses (either 0 or 1)\n",
    "to the Gallup World Poll (GWP)\n",
    "question “If you were in trouble, do\n",
    "you have relatives or friends you can\n",
    "count on to help you whenever you\n",
    "need them, or not?”\"\n",
    "\n",
    "**Healthy life expectancy:***\n",
    "\"The time series of healthy life expectancy\n",
    "at birth are constructed based on data\n",
    "from the World Health Organization\n",
    "(WHO) and WDI. WHO publishes the\n",
    "data on healthy life expectancy for\n",
    "the year 2012. The time series of life\n",
    "expectancies, with no adjustment for\n",
    "health, are available in WDI. We adopt\n",
    "the following strategy to construct the\n",
    "time series of healthy life expectancy\n",
    "at birth: first we generate the ratios\n",
    "of healthy life expectancy to life\n",
    "expectancy in 2012 for countries\n",
    "with both data. We then apply the\n",
    "country-specific ratios to other years\n",
    "to generate the healthy life expectancy\n",
    "data.\"\n",
    "\n",
    "**Freedom to make life choices:**\n",
    "\"The\n",
    "national average of binary responses to\n",
    "the GWP question “Are you satisfied or\n",
    "dissatisfied with your freedom to\n",
    "choose what you do with your life?”\"\n",
    "\n",
    "**Generosity:**\n",
    "\"The residual of regressing\n",
    "the national average of GWP responses\n",
    "to the question “Have you donated\n",
    "money to a charity in the past month?”\n",
    "on GDP per capita.\"\n",
    "\n",
    "**Perceptions of corruption:**\n",
    "\"The average\n",
    "of binary answers to two GWP questions:\n",
    "“Is corruption widespread throughout the\n",
    "government or not?” and “Is corruption\n",
    "widespread within businesses or not?”\n",
    "Where data for government corruption\n",
    "are missing, the perception of business\n",
    "corruption is used as the overall\n",
    "corruption-perception measure.\"\n",
    "\n",
    "The dependent variable, happiness, is the national average of responses to the \"Cantril ladder question\" used by the [Gallup World Poll](https://news.gallup.com/poll/122453/understanding-gallup-uses-cantril-scale.aspx):\n",
    "\n",
    "> Please imagine a ladder with steps numbered from zero at the bottom to 10 at the top.\n",
    "The top of the ladder represents the best possible life for you and the bottom of the ladder represents the worst possible life for you.\n",
    "On which step of the ladder would you say you personally feel you stand at this time?  \n",
    "\n",
    "The data used to make this table can be [downloaded from here](https://happiness-report.s3.amazonaws.com/2020/WHR20_DataForFigure2.1.xls)."
   ]
  },
  {
   "cell_type": "code",
   "execution_count": 2,
   "metadata": {},
   "outputs": [],
   "source": [
    "from os.path import basename, exists\n",
    "\n",
    "\n",
    "def download(url):\n",
    "    filename = basename(url)\n",
    "    if not exists(filename):\n",
    "        from urllib.request import urlretrieve\n",
    "\n",
    "        local, _ = urlretrieve(url, filename)\n",
    "        print(\"Downloaded \" + local)\n",
    "\n",
    "\n",
    "download(\"https://happiness-report.s3.amazonaws.com/2020/WHR20_DataForFigure2.1.xls\")"
   ]
  },
  {
   "cell_type": "markdown",
   "metadata": {},
   "source": [
    "Now we can read the data into a Pandas `DataFrame`."
   ]
  },
  {
   "cell_type": "code",
   "execution_count": 28,
   "metadata": {},
   "outputs": [],
   "source": [
    "import sys\n",
    "\n",
    "if \"google.colab\" in sys.modules:\n",
    "    !pip install -U xlrd"
   ]
  },
  {
   "cell_type": "code",
   "execution_count": 3,
   "metadata": {},
   "outputs": [],
   "source": [
    "whr = pd.read_excel(\"WHR20_DataForFigure2.1.xls\")\n",
    "whr.head()"
   ]
  },
  {
   "cell_type": "markdown",
   "metadata": {},
   "source": [
    "## Correlations\n",
    "\n",
    "Before we go on, I'm going to make a new dataframe that contains only the columns we need, and I'm going to give them shorter names."
   ]
  },
  {
   "cell_type": "code",
   "execution_count": 4,
   "metadata": {},
   "outputs": [],
   "source": [
    "subset = pd.DataFrame()\n",
    "\n",
    "subset[\"ladder\"] = whr[\"Ladder score\"]\n",
    "subset[\"log_gdp\"] = whr[\"Logged GDP per capita\"]\n",
    "subset[\"social\"] = whr[\"Social support\"]\n",
    "subset[\"life_exp\"] = whr[\"Healthy life expectancy\"]\n",
    "subset[\"freedom\"] = whr[\"Freedom to make life choices\"]\n",
    "subset[\"generosity\"] = whr[\"Generosity\"]\n",
    "subset[\"corruption\"] = whr[\"Perceptions of corruption\"]"
   ]
  },
  {
   "cell_type": "markdown",
   "metadata": {},
   "source": [
    "Here's what the correlations look like among these variables."
   ]
  },
  {
   "cell_type": "code",
   "execution_count": 5,
   "metadata": {},
   "outputs": [],
   "source": [
    "subset.corr()"
   ]
  },
  {
   "cell_type": "markdown",
   "metadata": {},
   "source": [
    "**Question 1:** Use the Seaborn function `pairplot` to generate distributions and scatterplots for the columns in `subset`. Do you see any scatterplots that might indicate a non-linear relationship?"
   ]
  },
  {
   "cell_type": "code",
   "execution_count": 6,
   "metadata": {},
   "outputs": [],
   "source": []
  },
  {
   "cell_type": "code",
   "execution_count": 7,
   "metadata": {},
   "outputs": [],
   "source": []
  },
  {
   "cell_type": "markdown",
   "metadata": {},
   "source": [
    "**Question 2:** Use `linregress` from `scipy.stats` to compute a simple regression of `ladder` as a function of `log_gdp`. "
   ]
  },
  {
   "cell_type": "code",
   "execution_count": 8,
   "metadata": {},
   "outputs": [],
   "source": []
  },
  {
   "cell_type": "markdown",
   "metadata": {},
   "source": [
    "**Question 3:** Write a sentence or two that interpret the estimated slope. For example, if we are comparing two countries with different GDPs, what difference would we expect in their average happiness?"
   ]
  },
  {
   "cell_type": "code",
   "execution_count": 9,
   "metadata": {},
   "outputs": [],
   "source": []
  },
  {
   "cell_type": "markdown",
   "metadata": {},
   "source": [
    "**Question 4:** Use `ols` from `statsmodels` to compute a simple regression of `ladder` as a function of `log_gdp`. Confirm that the estimated slope and intercept are the same as what we got from `linregress`."
   ]
  },
  {
   "cell_type": "code",
   "execution_count": 10,
   "metadata": {},
   "outputs": [],
   "source": [
    "# Here's the import statement for `statsmodels`\n",
    "\n",
    "import statsmodels.formula.api as smf"
   ]
  },
  {
   "cell_type": "code",
   "execution_count": 11,
   "metadata": {},
   "outputs": [],
   "source": []
  },
  {
   "cell_type": "markdown",
   "metadata": {},
   "source": [
    "**Question 5:** Using the results from the previous question and the range of `xs` from the following cell, compute the corresponding `ys` for the line of best fit.\n",
    "Plot this line along with a scatter plot of `ladder` vs `log_gdp`.\n",
    "The line should pass through the visual center of the scatter plot."
   ]
  },
  {
   "cell_type": "code",
   "execution_count": 12,
   "metadata": {},
   "outputs": [],
   "source": [
    "low, high = subset[\"log_gdp\"].min(), subset[\"log_gdp\"].max()\n",
    "xs = np.linspace(low, high)"
   ]
  },
  {
   "cell_type": "code",
   "execution_count": 13,
   "metadata": {},
   "outputs": [],
   "source": []
  },
  {
   "cell_type": "markdown",
   "metadata": {},
   "source": [
    "**Question 6:** Let's see what the relationship is between `corruption` and `ladder` while controlling for GDP. \n",
    "\n",
    "Use `ols` to compute a multiple regression with `ladder` as the dependent variable and both `corruption` and `log_gdp` as predictors. Display the estimated parameters."
   ]
  },
  {
   "cell_type": "code",
   "execution_count": 14,
   "metadata": {},
   "outputs": [],
   "source": []
  },
  {
   "cell_type": "markdown",
   "metadata": {},
   "source": [
    "**Question 7:** Based on the scatter plot, it looks like the relationship between `corruption` and `ladder` might be nonlinear. To explore this possibility, add a new column to `subset` that contains the square of the values from `corruption`.\n",
    "Then run a multiple regression with `ladder` as the dependent variable and with `log_gdp`, `corruption`, and your new variable as predictors."
   ]
  },
  {
   "cell_type": "code",
   "execution_count": 15,
   "metadata": {},
   "outputs": [],
   "source": []
  },
  {
   "cell_type": "markdown",
   "metadata": {},
   "source": [
    "**Question 8:** To visualize the results from the previous model, let's generate some predictions.\n",
    "\n",
    "Make a new `DataFrame` named `pred` that represents hypothetical countries with different perceived levels of corruption."
   ]
  },
  {
   "cell_type": "code",
   "execution_count": 16,
   "metadata": {},
   "outputs": [],
   "source": []
  },
  {
   "cell_type": "markdown",
   "metadata": {},
   "source": [
    "Now add a column named `corruption` that contains an array of values between `low` and `high`, as computed in the next cell.\n",
    "Then add a column that contains the square of these corruption values. Finally, add a column that sets `log_gdp` to `9.0`, which is near the average across countries."
   ]
  },
  {
   "cell_type": "code",
   "execution_count": 17,
   "metadata": {},
   "outputs": [],
   "source": [
    "low, high = subset[\"corruption\"].min(), subset[\"corruption\"].max()"
   ]
  },
  {
   "cell_type": "code",
   "execution_count": 18,
   "metadata": {},
   "outputs": [],
   "source": []
  },
  {
   "cell_type": "markdown",
   "metadata": {},
   "source": [
    "Run the following cell `DataFrame` and the results from the previous regression to generate predictions for the hypothetical countries."
   ]
  },
  {
   "cell_type": "code",
   "execution_count": 19,
   "metadata": {},
   "outputs": [],
   "source": [
    "pred[\"ladder\"] = results.predict(pred)"
   ]
  },
  {
   "cell_type": "markdown",
   "metadata": {},
   "source": [
    "If everything so far has worked, you should be able to use the following cell to plot the predictions from the model along with a scatter plot of `ladder` vs `corruption`."
   ]
  },
  {
   "cell_type": "code",
   "execution_count": 20,
   "metadata": {},
   "outputs": [],
   "source": [
    "plt.plot(pred[\"corruption\"], pred[\"ladder\"], color=\"gray\")\n",
    "plt.plot(subset[\"corruption\"], subset[\"ladder\"], \"o\")\n",
    "\n",
    "plt.xlabel(\"Perception of corruption\")\n",
    "plt.ylabel(\"Happiness ladder\")\n",
    "None"
   ]
  },
  {
   "cell_type": "markdown",
   "metadata": {},
   "source": [
    "## Standardizing\n",
    "\n",
    "The following cell runs a \"kitchen sink model\" with all of the predictors (but not the square of corruption)."
   ]
  },
  {
   "cell_type": "code",
   "execution_count": 21,
   "metadata": {},
   "outputs": [],
   "source": [
    "formula = \"ladder ~ log_gdp + social + life_exp + freedom + generosity + corruption\"\n",
    "\n",
    "results = smf.ols(formula, data=subset).fit()\n",
    "results.params"
   ]
  },
  {
   "cell_type": "markdown",
   "metadata": {},
   "source": [
    "It is tempting to compare the estimated parameters to see which ones have the strongest relationship with `ladder`, but that would be misleading because the various predictors are in different units with different ranges of values.\n",
    "To demonstrate that point, here are their standard deviations. Some are clearly bigger than others."
   ]
  },
  {
   "cell_type": "code",
   "execution_count": 22,
   "metadata": {},
   "outputs": [],
   "source": [
    "subset.std()"
   ]
  },
  {
   "cell_type": "markdown",
   "metadata": {},
   "source": [
    "A solution to this problem is to \"standardize\" the dependent variable and the predictors so that they all have mean 0 and standard deviation 1.\n",
    "Here's how we can standardize the columns in subset."
   ]
  },
  {
   "cell_type": "code",
   "execution_count": 23,
   "metadata": {},
   "outputs": [],
   "source": [
    "standardized = (subset - subset.mean()) / subset.std()"
   ]
  },
  {
   "cell_type": "markdown",
   "metadata": {},
   "source": [
    "The following cell confirms that the means are near 0."
   ]
  },
  {
   "cell_type": "code",
   "execution_count": 24,
   "metadata": {},
   "outputs": [],
   "source": [
    "standardized.mean()"
   ]
  },
  {
   "cell_type": "markdown",
   "metadata": {},
   "source": [
    "And the standard deviations are near 1."
   ]
  },
  {
   "cell_type": "code",
   "execution_count": 25,
   "metadata": {},
   "outputs": [],
   "source": [
    "standardized.std()"
   ]
  },
  {
   "cell_type": "markdown",
   "metadata": {},
   "source": [
    "**Question 9:** Run the \"kitchen sink\" regression again using the standardized data and display the parameters.\n",
    "You can interpret the parameters to mean \"if two countries are the same except that one of their predictors differs by one standard deviation, we expect a corresponding increase of X standard deviations in the dependent variable\", where X is the estimated parameter.\n"
   ]
  },
  {
   "cell_type": "code",
   "execution_count": 26,
   "metadata": {},
   "outputs": [],
   "source": []
  },
  {
   "cell_type": "markdown",
   "metadata": {},
   "source": [
    "**Question 10:** Based on these results, which factor has the strongest relationship with happiness? Which has the weakest?"
   ]
  },
  {
   "cell_type": "code",
   "execution_count": 27,
   "metadata": {},
   "outputs": [],
   "source": []
  },
  {
   "cell_type": "markdown",
   "metadata": {},
   "source": [
    "*Elements of Data Science*\n",
    "\n",
    "Copyright 2022 Allen Downey\n",
    "\n",
    "License: [Creative Commons Attribution-NonCommercial-ShareAlike 4.0 International](https://creativecommons.org/licenses/by-nc-sa/4.0/)"
   ]
  },
  {
   "cell_type": "code",
   "execution_count": null,
   "metadata": {},
   "outputs": [],
   "source": []
  }
 ],
 "metadata": {
  "kernelspec": {
   "display_name": "Python 3 (ipykernel)",
   "language": "python",
   "name": "python3"
  },
  "language_info": {
   "codemirror_mode": {
    "name": "ipython",
    "version": 3
   },
   "file_extension": ".py",
   "mimetype": "text/x-python",
   "name": "python",
   "nbconvert_exporter": "python",
   "pygments_lexer": "ipython3",
   "version": "3.7.7"
  }
 },
 "nbformat": 4,
 "nbformat_minor": 2
}
