{
 "cells": [
  {
   "cell_type": "markdown",
   "metadata": {
    "id": "HPl5lEUDNd1_"
   },
   "source": [
    "# Quiz 3\n",
    "\n",
    "BEFORE YOU START THIS QUIZ:\n",
    "\n",
    "1. Click on \"Copy to Drive\" to make a copy of the quiz,\n",
    "\n",
    "2. Click on \"Share\",\n",
    "    \n",
    "3. Click on \"Change\" and select \"Anyone with this link can edit\"\n",
    "    \n",
    "4. Click \"Copy link\" and\n",
    "\n",
    "5. Paste the link into [this Canvas assignment](https://canvas.olin.edu/courses/390/assignments/6149).\n",
    "\n",
    "DO THIS BEFORE YOU START THE QUIZ."
   ]
  },
  {
   "cell_type": "markdown",
   "metadata": {},
   "source": [
    "The following cells define functions we have used before."
   ]
  },
  {
   "cell_type": "code",
   "execution_count": 1,
   "metadata": {
    "id": "yPPzR2TGNd2D"
   },
   "outputs": [],
   "source": [
    "import pandas as pd\n",
    "import numpy as np\n",
    "import matplotlib.pyplot as plt\n",
    "import seaborn as sns"
   ]
  },
  {
   "cell_type": "code",
   "execution_count": 2,
   "metadata": {
    "id": "vWy6mDymNd2E"
   },
   "outputs": [],
   "source": [
    "def values(series):\n",
    "    \"\"\"Count the values and sort.\n",
    "\n",
    "    series: pd.Series\n",
    "\n",
    "    returns: series mapping from values to frequencies\n",
    "    \"\"\"\n",
    "    return series.value_counts().sort_index()"
   ]
  },
  {
   "cell_type": "code",
   "execution_count": 3,
   "metadata": {
    "id": "14n5eKymNd2E"
   },
   "outputs": [],
   "source": [
    "def decorate(**options):\n",
    "    \"\"\"Decorate the current axes.\n",
    "\n",
    "    Call decorate with keyword arguments like\n",
    "    decorate(title='Title',\n",
    "             xlabel='x',\n",
    "             ylabel='y')\n",
    "\n",
    "    The keyword arguments can be any of the axis properties\n",
    "    https://matplotlib.org/api/axes_api.html\n",
    "    \"\"\"\n",
    "    ax = plt.gca()\n",
    "    ax.set(**options)\n",
    "\n",
    "    handles, labels = ax.get_legend_handles_labels()\n",
    "    if handles:\n",
    "        ax.legend(handles, labels)\n",
    "\n",
    "    plt.tight_layout()"
   ]
  },
  {
   "cell_type": "code",
   "execution_count": 4,
   "metadata": {
    "colab": {
     "base_uri": "https://localhost:8080/"
    },
    "id": "yxdaBSiuNd2E",
    "outputId": "92853168-4eb0-4c79-946d-fafc8ba35169"
   },
   "outputs": [],
   "source": [
    "from statsmodels.nonparametric.smoothers_lowess import lowess\n",
    "\n",
    "\n",
    "def make_lowess(series):\n",
    "    \"\"\"Use LOWESS to compute a smooth line.\n",
    "\n",
    "    series: pd.Series\n",
    "\n",
    "    returns: pd.Series\n",
    "    \"\"\"\n",
    "    y = series.values\n",
    "    x = series.index.values\n",
    "\n",
    "    smooth = lowess(y, x)\n",
    "    index, data = np.transpose(smooth)\n",
    "\n",
    "    return pd.Series(data, index=index)"
   ]
  },
  {
   "cell_type": "code",
   "execution_count": 5,
   "metadata": {
    "id": "4P93AkyvNd2F"
   },
   "outputs": [],
   "source": [
    "def plot_series_lowess(series, color=\"C0\"):\n",
    "    \"\"\"Plots a series of data points and a smooth line.\n",
    "\n",
    "    series: pd.Series\n",
    "    color: string or tuple\n",
    "    \"\"\"\n",
    "    series.plot(linewidth=0, marker=\"o\", color=color, alpha=0.5)\n",
    "    smooth = make_lowess(series)\n",
    "    smooth.plot(label=\"_\", color=color)"
   ]
  },
  {
   "cell_type": "markdown",
   "metadata": {},
   "source": [
    "The following cell installs `empiricaldist` if needed."
   ]
  },
  {
   "cell_type": "code",
   "execution_count": 6,
   "metadata": {},
   "outputs": [],
   "source": [
    "try:\n",
    "    import empiricaldist\n",
    "except ImportError:\n",
    "    !pip install empiricaldist"
   ]
  },
  {
   "cell_type": "markdown",
   "metadata": {},
   "source": [
    "The following cell downloads the GSS data."
   ]
  },
  {
   "cell_type": "code",
   "execution_count": 7,
   "metadata": {
    "colab": {
     "base_uri": "https://localhost:8080/"
    },
    "id": "wGS-6gIrNd2F",
    "outputId": "c7d3fa7d-397d-43bc-c666-0c45f4442c54"
   },
   "outputs": [],
   "source": [
    "from os.path import basename, exists\n",
    "\n",
    "\n",
    "def download(url):\n",
    "    filename = basename(url)\n",
    "    if not exists(filename):\n",
    "        from urllib.request import urlretrieve\n",
    "\n",
    "        local, _ = urlretrieve(url, filename)\n",
    "        print(\"Downloaded \" + local)\n",
    "\n",
    "\n",
    "download(\n",
    "    \"https://github.com/AllenDowney/PoliticalAlignmentCaseStudy/\"\n",
    "    + \"raw/update2021/gss_eds.hdf5\"\n",
    ")"
   ]
  },
  {
   "cell_type": "markdown",
   "metadata": {
    "id": "iqu7xLNvNd2G"
   },
   "source": [
    "This data file contains the original data, which uses stratified sampling, so it is not a representative sample."
   ]
  },
  {
   "cell_type": "code",
   "execution_count": 8,
   "metadata": {
    "colab": {
     "base_uri": "https://localhost:8080/"
    },
    "id": "wHn3XnHpNd2G",
    "outputId": "416ba9c5-27f2-4fda-f128-3642101a2160"
   },
   "outputs": [],
   "source": [
    "datafile = \"gss_eds.hdf5\"\n",
    "gss = pd.read_hdf(datafile, \"gss\")\n",
    "gss.shape"
   ]
  },
  {
   "cell_type": "markdown",
   "metadata": {},
   "source": [
    "## The \"Rise of the Nones\"\n",
    "\n",
    "During the last 20 years or so, the number of people who say they have no specific religious affiliation has increased substantially.\n",
    "These people are often called \"Nones\" because when they are asked their religious preference, they choose \"None\".\n",
    "In this notebook, we'll explore this so-called \"Rise of the Nones\".\n",
    "\n",
    "In the GSS dataset, the variable `relig` records responses to the following question:\n",
    "\n",
    "> What is your religious preference?  Is it Protestant, Catholic, Jewish, some other religion, or no religion?\n",
    "\n",
    "You can read the [documentation of this variable here](https://gssdataexplorer.norc.org/variables/287/vshow).\n",
    "\n",
    "The following cell selects this column from the GSS `DataFrame` and displays the distribution of the responses."
   ]
  },
  {
   "cell_type": "code",
   "execution_count": 9,
   "metadata": {},
   "outputs": [],
   "source": [
    "relig = gss[\"relig\"]\n",
    "values(relig)"
   ]
  },
  {
   "cell_type": "markdown",
   "metadata": {
    "id": "rIOptAdcNd2H"
   },
   "source": [
    "**Question 1:** Before we go on, it is a good idea to check how many values are missing.\n",
    "Use `isna` to check which values in `relig` are `NaN`, and display the total number of missing values."
   ]
  },
  {
   "cell_type": "code",
   "execution_count": 10,
   "metadata": {
    "colab": {
     "base_uri": "https://localhost:8080/"
    },
    "id": "gK_yiDwVNd2I",
    "outputId": "06f10927-850b-4367-bab5-45d649e8e0f7"
   },
   "outputs": [],
   "source": []
  },
  {
   "cell_type": "markdown",
   "metadata": {},
   "source": [
    "**Question 2:** Let's also spot-check the data to make sure it is consistent with the code book. Select only the rows from 1972 and use `values` to display the values of `relig` and how many times each one appears. \n",
    "\n",
    "Add a comment to indicate whether the results are  [consistent with the code book](https://gssdataexplorer.norc.org/variables/287/vshow)."
   ]
  },
  {
   "cell_type": "code",
   "execution_count": 11,
   "metadata": {},
   "outputs": [],
   "source": []
  },
  {
   "cell_type": "markdown",
   "metadata": {},
   "source": [
    "**Question 3**: Use the `empiricaldist` library to create a `Pmf` object that represents the distribution of religious preferences."
   ]
  },
  {
   "cell_type": "code",
   "execution_count": 12,
   "metadata": {},
   "outputs": [],
   "source": []
  },
  {
   "cell_type": "markdown",
   "metadata": {},
   "source": [
    "**Question 4:** Make a bar chart that shows the quantities in the `Pmf` on the x-axis and the fraction of people who reported each preference on the y-axis. "
   ]
  },
  {
   "cell_type": "code",
   "execution_count": 13,
   "metadata": {},
   "outputs": [],
   "source": []
  },
  {
   "cell_type": "markdown",
   "metadata": {},
   "source": [
    "**Question 5:** On the previous graph, add appropriate labels for the x- and y-axis, and give the whole graph an appropriate title.\n",
    "You can use my `decorate` function or call Pyplot functions directly, whichever you prefer."
   ]
  },
  {
   "cell_type": "markdown",
   "metadata": {},
   "source": [
    "**Question 6:** One problem with the previous figure is that it is hard to see some of the small bars. In the next cell, make a version of the same figure that where the y-axis is on a logarithmic scale."
   ]
  },
  {
   "cell_type": "code",
   "execution_count": 14,
   "metadata": {},
   "outputs": [],
   "source": []
  },
  {
   "cell_type": "markdown",
   "metadata": {},
   "source": [
    "You can ignore the following empty cells."
   ]
  },
  {
   "cell_type": "code",
   "execution_count": 15,
   "metadata": {},
   "outputs": [],
   "source": []
  },
  {
   "cell_type": "code",
   "execution_count": 16,
   "metadata": {},
   "outputs": [],
   "source": []
  },
  {
   "cell_type": "code",
   "execution_count": 17,
   "metadata": {},
   "outputs": [],
   "source": []
  },
  {
   "cell_type": "markdown",
   "metadata": {},
   "source": [
    "## Fraction of \"Nones\" over time\n",
    "\n",
    "Now let's see how the fraction of \"Nones\" has changed over time.\n",
    "\n",
    "**Question 7:** Add a new column named `none` to the GSS `DataFrame`; it should be a Boolean Series that is `True` where `relig` equals 4 and `False` otherwise."
   ]
  },
  {
   "cell_type": "code",
   "execution_count": 18,
   "metadata": {
    "id": "9Xu3Vdv-Nd2I"
   },
   "outputs": [],
   "source": []
  },
  {
   "cell_type": "markdown",
   "metadata": {
    "id": "foIciqqHNd2I"
   },
   "source": [
    "You can use the following cell to check whether it worked.\n",
    "The value `True` should appear 8918 times. "
   ]
  },
  {
   "cell_type": "code",
   "execution_count": 19,
   "metadata": {
    "colab": {
     "base_uri": "https://localhost:8080/"
    },
    "id": "nHauL1-5Nd2I",
    "outputId": "145f200e-77bc-4351-a0af-4eed219bdf4d"
   },
   "outputs": [],
   "source": [
    "values(gss[\"none\"])"
   ]
  },
  {
   "cell_type": "markdown",
   "metadata": {},
   "source": [
    "**Question 8:** Use `groupby` to group the GSS DataFrame by year.\n",
    "Then select the `none` column from the resulting `GroupBy` object and compute its mean.\n",
    "The result should be a `Series` that contains years as labels in the index and the fraction of \"Nones\" as values."
   ]
  },
  {
   "cell_type": "code",
   "execution_count": 20,
   "metadata": {
    "id": "08UJqMbXNd2J"
   },
   "outputs": [],
   "source": []
  },
  {
   "cell_type": "code",
   "execution_count": 21,
   "metadata": {
    "id": "wgJIMwiNNd2J"
   },
   "outputs": [],
   "source": []
  },
  {
   "cell_type": "markdown",
   "metadata": {},
   "source": [
    "You can use the following cell to plot the results."
   ]
  },
  {
   "cell_type": "code",
   "execution_count": 22,
   "metadata": {
    "colab": {
     "base_uri": "https://localhost:8080/",
     "height": 297
    },
    "id": "HQYYv8vxNd2J",
    "outputId": "0e1d5fcb-2ffd-40cf-d1d3-9b860fa80ae1"
   },
   "outputs": [],
   "source": [
    "plot_series_lowess(none_by_year)\n",
    "\n",
    "decorate(\n",
    "    xlabel=\"Year\",\n",
    "    ylabel=\"Fraction reporting none\",\n",
    "    title=\"Religious preference vs year of interview\",\n",
    ")"
   ]
  },
  {
   "cell_type": "markdown",
   "metadata": {},
   "source": [
    "## Group By Age\n",
    "\n",
    "The following cells create a new column called `age10` that puts people into 10-year age groups. You don't need to understand all of the details."
   ]
  },
  {
   "cell_type": "code",
   "execution_count": 23,
   "metadata": {
    "colab": {
     "base_uri": "https://localhost:8080/"
    },
    "id": "UWibvaGkRpW5",
    "outputId": "3633abfc-5133-454f-db90-fe152dd820a1"
   },
   "outputs": [],
   "source": [
    "bins = np.arange(17, 100, 10)\n",
    "bins"
   ]
  },
  {
   "cell_type": "code",
   "execution_count": 24,
   "metadata": {
    "colab": {
     "base_uri": "https://localhost:8080/"
    },
    "id": "UWibvaGkRpW5",
    "outputId": "3633abfc-5133-454f-db90-fe152dd820a1"
   },
   "outputs": [],
   "source": [
    "labels = bins[:-1] + 5\n",
    "labels"
   ]
  },
  {
   "cell_type": "code",
   "execution_count": 25,
   "metadata": {
    "colab": {
     "base_uri": "https://localhost:8080/"
    },
    "id": "UWibvaGkRpW5",
    "outputId": "3633abfc-5133-454f-db90-fe152dd820a1"
   },
   "outputs": [],
   "source": [
    "gss[\"age10\"] = pd.cut(gss[\"age\"], bins, labels=labels).astype(float)"
   ]
  },
  {
   "cell_type": "markdown",
   "metadata": {},
   "source": [
    "Here are the values of `age10` and the number of times each one appears."
   ]
  },
  {
   "cell_type": "code",
   "execution_count": 26,
   "metadata": {
    "colab": {
     "base_uri": "https://localhost:8080/"
    },
    "id": "UWibvaGkRpW5",
    "outputId": "3633abfc-5133-454f-db90-fe152dd820a1"
   },
   "outputs": [],
   "source": [
    "values(gss[\"age10\"])"
   ]
  },
  {
   "cell_type": "markdown",
   "metadata": {},
   "source": [
    "The following figure shows the fraction of Nones in each age group."
   ]
  },
  {
   "cell_type": "code",
   "execution_count": 27,
   "metadata": {},
   "outputs": [],
   "source": [
    "gss.groupby(\"age10\")[\"none\"].mean().plot(style=\"-o\", color=\"C1\")\n",
    "\n",
    "decorate(\n",
    "    xlabel=\"Age\", ylabel=\"Fraction reporting None\", title=\"Religious preference vs age\"\n",
    ")"
   ]
  },
  {
   "cell_type": "markdown",
   "metadata": {},
   "source": [
    "## Group by Cohort\n",
    "\n",
    "The column `cohort` contains year each respondent was born, so-called because all of the people born in the same period of time belong to the same \"birth cohort\".\n",
    "\n",
    "The following cells create a new column called `cohort10` that puts people into 10-year birth cohorts."
   ]
  },
  {
   "cell_type": "code",
   "execution_count": 28,
   "metadata": {
    "colab": {
     "base_uri": "https://localhost:8080/"
    },
    "id": "XW-Q70NxNd2K",
    "outputId": "66834458-8086-4232-9b63-33b79ef99b26"
   },
   "outputs": [],
   "source": [
    "bins = np.arange(1885, 2021, 10)\n",
    "bins"
   ]
  },
  {
   "cell_type": "code",
   "execution_count": 29,
   "metadata": {
    "colab": {
     "base_uri": "https://localhost:8080/"
    },
    "id": "XW-Q70NxNd2K",
    "outputId": "66834458-8086-4232-9b63-33b79ef99b26"
   },
   "outputs": [],
   "source": [
    "labels = bins[:-1] + 5\n",
    "labels"
   ]
  },
  {
   "cell_type": "code",
   "execution_count": 30,
   "metadata": {
    "colab": {
     "base_uri": "https://localhost:8080/"
    },
    "id": "XW-Q70NxNd2K",
    "outputId": "66834458-8086-4232-9b63-33b79ef99b26"
   },
   "outputs": [],
   "source": [
    "gss[\"cohort10\"] = pd.cut(gss[\"cohort\"], bins, labels=labels).astype(float)"
   ]
  },
  {
   "cell_type": "markdown",
   "metadata": {},
   "source": [
    "Here are the value of `cohort10` and the number of times each one appears."
   ]
  },
  {
   "cell_type": "code",
   "execution_count": 31,
   "metadata": {
    "colab": {
     "base_uri": "https://localhost:8080/"
    },
    "id": "XW-Q70NxNd2K",
    "outputId": "66834458-8086-4232-9b63-33b79ef99b26",
    "scrolled": true
   },
   "outputs": [],
   "source": [
    "values(gss[\"cohort10\"])"
   ]
  },
  {
   "cell_type": "markdown",
   "metadata": {},
   "source": [
    "The following figure shows the fraction of Nones in each age group."
   ]
  },
  {
   "cell_type": "code",
   "execution_count": 32,
   "metadata": {
    "colab": {
     "base_uri": "https://localhost:8080/",
     "height": 297
    },
    "id": "nY7f-_GtNd2L",
    "outputId": "46404dea-f177-4738-c6ae-c5fd8dbd76b5"
   },
   "outputs": [],
   "source": [
    "gss.groupby(\"cohort10\")[\"none\"].mean().plot(style=\"-s\", color=\"C2\")\n",
    "\n",
    "decorate(\n",
    "    xlabel=\"Birth cohort\",\n",
    "    ylabel=\"Fraction reporting none\",\n",
    "    title=\"Religious preference vs cohort\",\n",
    ")"
   ]
  },
  {
   "cell_type": "markdown",
   "metadata": {},
   "source": [
    "**Question 9:** Make a version of the previous figure that plots the line and markers using a color selected from any Seaborn palette. You can [read about palettes here](https://seaborn.pydata.org/tutorial/color_palettes.html)."
   ]
  },
  {
   "cell_type": "code",
   "execution_count": 33,
   "metadata": {
    "colab": {
     "base_uri": "https://localhost:8080/",
     "height": 297
    },
    "id": "nY7f-_GtNd2L",
    "outputId": "46404dea-f177-4738-c6ae-c5fd8dbd76b5"
   },
   "outputs": [],
   "source": []
  },
  {
   "cell_type": "code",
   "execution_count": 34,
   "metadata": {
    "colab": {
     "base_uri": "https://localhost:8080/",
     "height": 297
    },
    "id": "nY7f-_GtNd2L",
    "outputId": "46404dea-f177-4738-c6ae-c5fd8dbd76b5"
   },
   "outputs": [],
   "source": []
  },
  {
   "cell_type": "markdown",
   "metadata": {},
   "source": [
    "## Cross Tabulation\n",
    "\n",
    "**Question 10:** Make a cross tabulation that has values of `cohort10` as labels in the index and values of `age10` as column names.\n",
    "The values in the table should be the number of people in each cohort who were interviewed at each age."
   ]
  },
  {
   "cell_type": "code",
   "execution_count": 35,
   "metadata": {},
   "outputs": [],
   "source": []
  },
  {
   "cell_type": "markdown",
   "metadata": {},
   "source": [
    "You can use the following cell to plot the results (assuming you assign the cross tabulation to `xtab`)."
   ]
  },
  {
   "cell_type": "code",
   "execution_count": 36,
   "metadata": {},
   "outputs": [],
   "source": [
    "plt.pcolormesh(xtab.columns, xtab.index, xtab, shading=\"nearest\")\n",
    "plt.gca().invert_yaxis()\n",
    "\n",
    "decorate(xlabel=\"Age\", ylabel=\"Cohort\", title=\"Cross Tabulation of Cohort and Age\")"
   ]
  },
  {
   "cell_type": "markdown",
   "metadata": {},
   "source": [
    "## Pivot Table\n",
    "\n",
    "The following question is just for fun -- I won't grade it because we learned about pivot tables too recently.\n",
    "\n",
    "**Question 11 Just for Fun:** Make a pivot table that has values of `age10` as labels in the index and values of `cohort10` as column names. The values in the pivot table should be the fraction of \"Nones\" in each age group and birth cohort."
   ]
  },
  {
   "cell_type": "code",
   "execution_count": 37,
   "metadata": {},
   "outputs": [],
   "source": []
  },
  {
   "cell_type": "code",
   "execution_count": 38,
   "metadata": {
    "colab": {
     "base_uri": "https://localhost:8080/",
     "height": 297
    },
    "id": "dFkjIjthP30_",
    "outputId": "915ea51b-1a78-47ab-96ea-e16508ff6e98"
   },
   "outputs": [],
   "source": []
  },
  {
   "cell_type": "markdown",
   "metadata": {},
   "source": [
    "You can use the following cell to plot the results."
   ]
  },
  {
   "cell_type": "code",
   "execution_count": 39,
   "metadata": {
    "colab": {
     "base_uri": "https://localhost:8080/",
     "height": 297
    },
    "id": "dFkjIjthP30_",
    "outputId": "915ea51b-1a78-47ab-96ea-e16508ff6e98"
   },
   "outputs": [],
   "source": [
    "table.plot(style=\"-o\")\n",
    "\n",
    "decorate(\n",
    "    xlabel=\"Birth cohort\",\n",
    "    ylabel=\"Fraction reporting none\",\n",
    "    title=\"Religious preference, group by age plot by cohort\",\n",
    ")"
   ]
  },
  {
   "cell_type": "markdown",
   "metadata": {},
   "source": [
    "Ignore the following empty cells."
   ]
  },
  {
   "cell_type": "code",
   "execution_count": 40,
   "metadata": {
    "id": "RnRWqZF0QZGE"
   },
   "outputs": [],
   "source": []
  },
  {
   "cell_type": "code",
   "execution_count": 41,
   "metadata": {},
   "outputs": [],
   "source": []
  },
  {
   "cell_type": "code",
   "execution_count": 42,
   "metadata": {
    "colab": {
     "base_uri": "https://localhost:8080/",
     "height": 909
    },
    "id": "X1ONOjdZQaXc",
    "outputId": "ee3298ad-4eb4-40b6-efc9-27a4609ef055"
   },
   "outputs": [],
   "source": []
  },
  {
   "cell_type": "code",
   "execution_count": null,
   "metadata": {},
   "outputs": [],
   "source": []
  }
 ],
 "metadata": {
  "celltoolbar": "Tags",
  "colab": {
   "name": "gss_relig.ipynb",
   "provenance": []
  },
  "kernelspec": {
   "display_name": "Python 3",
   "language": "python",
   "name": "python3"
  },
  "language_info": {
   "codemirror_mode": {
    "name": "ipython",
    "version": 3
   },
   "file_extension": ".py",
   "mimetype": "text/x-python",
   "name": "python",
   "nbconvert_exporter": "python",
   "pygments_lexer": "ipython3",
   "version": "3.7.7"
  }
 },
 "nbformat": 4,
 "nbformat_minor": 1
}
