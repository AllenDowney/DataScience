{
 "cells": [
  {
   "cell_type": "markdown",
   "metadata": {},
   "source": [
    "# Quiz 2\n",
    "\n",
    "BEFORE YOU START THIS QUIZ:\n",
    "\n",
    "1. Click on \"Copy to Drive\" to make a copy of the quiz,\n",
    "\n",
    "2. Click on \"Share\",\n",
    "    \n",
    "3. Click on \"Change\" and select \"Anyone with this link can edit\"\n",
    "    \n",
    "4. Click \"Copy link\" and\n",
    "\n",
    "5. Paste the link into [this Canvas assignment](https://canvas.olin.edu/courses/390/assignments/6117).\n",
    "\n",
    "DO THIS BEFORE YOU START THE QUIZ."
   ]
  },
  {
   "cell_type": "markdown",
   "metadata": {},
   "source": [
    "This quiz is open notes, open internet. \n",
    "\n",
    "* You can ask for help from the instructor, but not from anyone else.\n",
    "\n",
    "* You can use code you find on the internet, but if you use more than a couple of lines from a single source, you should attribute the source.\n",
    "\n"
   ]
  },
  {
   "cell_type": "markdown",
   "metadata": {},
   "source": [
    "## Question 1\n",
    "\n",
    "In 1950, the Air Force Anthropometric Survey measured over 4,063 U.S. Air Force flying personnel (all male).\n",
    "A total of 131 measurements were recorded for each subject.\n",
    "\n",
    "In 1952, Gilbert Daniels reported results from 10 measurements he chose because they are relevant to clothing design.\n",
    "The following is a list of these measurements as described in Table 1 of his report."
   ]
  },
  {
   "cell_type": "code",
   "execution_count": 1,
   "metadata": {},
   "outputs": [],
   "source": [
    "measurements = [\n",
    "    \"Stature (height)\",\n",
    "    \"Chest Circumference\",\n",
    "    \"Sleeve Length\",\n",
    "    \"Crotch Height\",\n",
    "    \"Vertical Trunk Circ.\",\n",
    "    \"Hip Circumference (Sit.)\",\n",
    "    \"Neck Circumference\",\n",
    "    \"Waist Circumference\",\n",
    "    \"Thigh Circumference\",\n",
    "    \"Crotch Length\",\n",
    "]"
   ]
  },
  {
   "cell_type": "markdown",
   "metadata": {},
   "source": [
    "The following list contains the means of each measurement, in centimeters, as reported in Table 1."
   ]
  },
  {
   "cell_type": "code",
   "execution_count": 2,
   "metadata": {},
   "outputs": [],
   "source": [
    "mean_1950 = [175.5, 98.6, 85.5, 83.4, 164.6, 106.0, 38.0, 81.4, 56.9, 71.6]"
   ]
  },
  {
   "cell_type": "markdown",
   "metadata": {},
   "source": [
    "The following list contains the standard deviations of the measurements, in cm, also from Table 1."
   ]
  },
  {
   "cell_type": "code",
   "execution_count": 3,
   "metadata": {},
   "outputs": [],
   "source": [
    "std_1950 = [6.2, 6.2, 3.8, 4.4, 7.3, 7.2, 1.9, 7.7, 4.4, 5.1]"
   ]
  },
  {
   "cell_type": "markdown",
   "metadata": {},
   "source": [
    "More recently, the US Army made similar measurements, as described here:\n",
    "\n",
    "> \"The Anthropometric Survey of US Army Personnel (ANSUR 2 or ANSUR II) data were ... made available publicly in 2017. They include 93 measures for over 6,000 adult US military personnel (4,082 men and 1,986 women).\"\n",
    "\n",
    "The following lists contain the means and standard deviations of these measurements, based on my best effort to match up corresponding measurements between the two datasets."
   ]
  },
  {
   "cell_type": "code",
   "execution_count": 4,
   "metadata": {},
   "outputs": [],
   "source": [
    "mean_2017 = [175.6, 105.9, 89.6, 84.6, 166.5, 37.9, 39.8, 94.1, 62.5, 35.6]"
   ]
  },
  {
   "cell_type": "code",
   "execution_count": 5,
   "metadata": {},
   "outputs": [],
   "source": [
    "std_2017 = [6.9, 8.7, 4.0, 4.6, 9.0, 3.0, 2.6, 11.2, 5.8, 2.9]"
   ]
  },
  {
   "cell_type": "markdown",
   "metadata": {},
   "source": [
    "To make these results easier to read, I'll put them in a Pandas `DataFrame` (you don't have to understand this code yet):"
   ]
  },
  {
   "cell_type": "code",
   "execution_count": 6,
   "metadata": {},
   "outputs": [],
   "source": [
    "import pandas as pd\n",
    "\n",
    "pd.DataFrame(\n",
    "    {\n",
    "        \"Mean 1950\": mean_1950,\n",
    "        \"Mean 2017\": mean_2017,\n",
    "        \"Std 1950\": std_1950,\n",
    "        \"Std 2017\": std_2017,\n",
    "    },\n",
    "    index=measurements,\n",
    ")"
   ]
  },
  {
   "cell_type": "markdown",
   "metadata": {},
   "source": [
    "Write Python code to compute results for each of the following questions. For full credit, you should use NumPy arrays, not `for` loops.\n",
    "\n",
    "A: What are the absolute values of the differences in means between the measurements from 1950 and the measurements from 2017?"
   ]
  },
  {
   "cell_type": "code",
   "execution_count": 7,
   "metadata": {},
   "outputs": [],
   "source": []
  },
  {
   "cell_type": "markdown",
   "metadata": {},
   "source": [
    "B: What are the relative differences between the means of the measurements, expressed as a percentage of the 1950 means? Compute the differences so that an increase over time corresponds to a positive percentage difference.\n",
    "\n",
    "Optional: Round the results to one decimal place."
   ]
  },
  {
   "cell_type": "code",
   "execution_count": 8,
   "metadata": {},
   "outputs": [],
   "source": []
  },
  {
   "cell_type": "markdown",
   "metadata": {},
   "source": [
    "C: To summarize the previous result, you could compute the mean of the percentage differences. Do you think that would be a good choice for this dataset?\n",
    "\n",
    "Write one to three clear, concise, complete sentences to explain why or why not."
   ]
  },
  {
   "cell_type": "code",
   "execution_count": 9,
   "metadata": {},
   "outputs": [],
   "source": []
  },
  {
   "cell_type": "markdown",
   "metadata": {},
   "source": [
    "## Question 2\n",
    "\n",
    "The following cell downloads the text of *The Count of Monte Cristo*, by Alexandre Dumas, from Project Gutenberg."
   ]
  },
  {
   "cell_type": "code",
   "execution_count": 10,
   "metadata": {},
   "outputs": [],
   "source": [
    "from os.path import basename, exists\n",
    "\n",
    "def download(url):\n",
    "    filename = basename(url)\n",
    "    if not exists(filename):\n",
    "        from urllib.request import urlretrieve\n",
    "        local, _ = urlretrieve(url, filename)\n",
    "        print('Downloaded ' + local)\n",
    "    \n",
    "download('https://www.gutenberg.org/cache/epub/1184/pg1184.txt')"
   ]
  },
  {
   "cell_type": "markdown",
   "metadata": {},
   "source": [
    "The following cell contains code to read through the text one line at a time, skipping the introductory material at the beginning and the license information at the end, and counting the number of words in between."
   ]
  },
  {
   "cell_type": "code",
   "execution_count": 11,
   "metadata": {},
   "outputs": [],
   "source": [
    "first_line = \"VOLUME ONE\\n\"\n",
    "last_line = \"*** END OF THE PROJECT GUTENBERG EBOOK THE COUNT OF MONTE CRISTO ***\\n\"\n",
    "\n",
    "fp = open('pg1184.txt')\n",
    "for line in fp:\n",
    "    if line == first_line:\n",
    "        print(line)\n",
    "        break\n",
    "\n",
    "count = 0\n",
    "for line in fp:\n",
    "    if line == last_line:\n",
    "        print(line)\n",
    "        break\n",
    "    count += len(line.split())\n",
    "    \n",
    "count"
   ]
  },
  {
   "cell_type": "markdown",
   "metadata": {},
   "source": [
    "Modify the previous code so it keeps track of the unique words in the book and the number of times each one appears. \n",
    "\n",
    "* You can use either a dictionary or a `Counter` object, whichever you prefer.\n",
    "\n",
    "* You must convert all words to lowercase; however,\n",
    "\n",
    "* Unlike the example in Notebook 6, you do not have to strip punctuation from words."
   ]
  },
  {
   "cell_type": "code",
   "execution_count": 12,
   "metadata": {},
   "outputs": [],
   "source": []
  },
  {
   "cell_type": "markdown",
   "metadata": {},
   "source": [
    "Use the results to answer the following questions.\n",
    "\n",
    "A: What are the 5 most common words in the book and how many times does each one appear?"
   ]
  },
  {
   "cell_type": "code",
   "execution_count": 13,
   "metadata": {},
   "outputs": [],
   "source": []
  },
  {
   "cell_type": "markdown",
   "metadata": {},
   "source": [
    "B: In his introduction to a recent edition of the book, Umberto Eco complains, \"Dumas' writing is all over the place. A mass of fillers, shameless in its repetition of the same adjective only one line below, incontinent in its piling on of these same adjectives.\"\n",
    "\n",
    "In particular, Eco point out Dumas' excessive use of \"pale\". How many times does this word appear?"
   ]
  },
  {
   "cell_type": "code",
   "execution_count": 14,
   "metadata": {},
   "outputs": [],
   "source": []
  },
  {
   "cell_type": "markdown",
   "metadata": {},
   "source": [
    "C: What is the word with rank 9966 and how many times does it appear?"
   ]
  },
  {
   "cell_type": "code",
   "execution_count": 15,
   "metadata": {},
   "outputs": [],
   "source": []
  },
  {
   "cell_type": "markdown",
   "metadata": {},
   "source": [
    "## Question 3\n",
    "\n",
    "This question explores the distribution of populations for cities and towns in the United States.\n",
    "\n",
    "The following cell downloads a data file from the U.S. Census Bureau that contains population estimates for cities and towns in the United States.\n",
    "\n",
    "Source: [City and Town Population Totals: 2010-2020](https://www.census.gov/programs-surveys/popest/technical-documentation/research/evaluation-estimates/2020-evaluation-estimates/2010s-cities-and-towns-total.html)"
   ]
  },
  {
   "cell_type": "code",
   "execution_count": 16,
   "metadata": {},
   "outputs": [],
   "source": [
    "download('https://www2.census.gov/programs-surveys/popest/datasets/2010-2020/cities/SUB-EST2020_ALL.csv')"
   ]
  },
  {
   "cell_type": "markdown",
   "metadata": {},
   "source": [
    "The following cell reads the file and puts the results in a Pandas `DataFrame`."
   ]
  },
  {
   "cell_type": "code",
   "execution_count": 17,
   "metadata": {},
   "outputs": [],
   "source": [
    "pop_frame = pd.read_csv('SUB-EST2020_ALL.csv', encoding='ISO-8859-1')\n",
    "pop_frame.shape"
   ]
  },
  {
   "cell_type": "markdown",
   "metadata": {},
   "source": [
    "Here are the first few rows."
   ]
  },
  {
   "cell_type": "code",
   "execution_count": 18,
   "metadata": {},
   "outputs": [],
   "source": [
    "pop_frame.head()"
   ]
  },
  {
   "cell_type": "markdown",
   "metadata": {},
   "source": [
    "According to [the codebook](https://www2.census.gov/programs-surveys/popest/technical-documentation/file-layouts/2010-2019/sub-est2019.pdf), \n",
    "\n",
    "```\n",
    "The key for SUMLEV is as follows:\n",
    "    040 = State\n",
    "    050 = County\n",
    "    061 = Minor Civil Division\n",
    "    071 = Minor Civil Division place part\n",
    "    157 = County place part\n",
    "    162 = Incorporated place\n",
    "    170 = Consolidated city\n",
    "    172 = Consolidated city -- place within consolidated city\n",
    "```\n",
    "\n",
    "So rows where `SUMLEV` is 40 are state totals, and rows where `SUMLEV` is 50 are county totals.\n",
    "Since we are interested in cities and towns, we will exclude state and county totals.\n",
    "The following cells define Boolean `Series` that identify rows containing state and county totals."
   ]
  },
  {
   "cell_type": "code",
   "execution_count": 19,
   "metadata": {},
   "outputs": [],
   "source": [
    "is_state_total = (pop_frame['SUMLEV'] == 40)\n",
    "is_state_total.sum()"
   ]
  },
  {
   "cell_type": "code",
   "execution_count": 20,
   "metadata": {},
   "outputs": [],
   "source": [
    "is_county_total = (pop_frame['SUMLEV'] == 50)\n",
    "is_county_total.sum()"
   ]
  },
  {
   "cell_type": "markdown",
   "metadata": {},
   "source": [
    "The following cell selects the column with the estimates from 2020 and assigns it to `pop_series`."
   ]
  },
  {
   "cell_type": "code",
   "execution_count": 21,
   "metadata": {},
   "outputs": [],
   "source": [
    "pop_series = pop_frame['POPESTIMATE2020']"
   ]
  },
  {
   "cell_type": "markdown",
   "metadata": {},
   "source": [
    "A: Use the bracket operator and the Boolean `Series` we computed to select from `pop_series` the values that are not state or county totals. Assign the result to a variable called `cities_towns`."
   ]
  },
  {
   "cell_type": "code",
   "execution_count": 22,
   "metadata": {},
   "outputs": [],
   "source": []
  },
  {
   "cell_type": "markdown",
   "metadata": {},
   "source": [
    "B: This dataset includes several places whose estimated population is 0"
   ]
  },
  {
   "cell_type": "code",
   "execution_count": 23,
   "metadata": {},
   "outputs": [],
   "source": [
    "(pop_series == 0).sum()"
   ]
  },
  {
   "cell_type": "markdown",
   "metadata": {},
   "source": [
    "I'm not sure what's up with that, but let's assume that these values are invalid.\n",
    "\n",
    "Use the `replace` method to make a new `Series`, based on `cities_towns`, where the 0 values are replaced with `NaN`, and assign the result to `cities_towns_clean`. "
   ]
  },
  {
   "cell_type": "code",
   "execution_count": 24,
   "metadata": {},
   "outputs": [],
   "source": []
  },
  {
   "cell_type": "markdown",
   "metadata": {},
   "source": [
    "C: Compute the mean of the valid populations in `cities_towns_clean`."
   ]
  },
  {
   "cell_type": "code",
   "execution_count": 25,
   "metadata": {},
   "outputs": [],
   "source": []
  },
  {
   "cell_type": "markdown",
   "metadata": {},
   "source": [
    "D: What percentage of cities and towns in the U.S. have a population smaller than the mean?"
   ]
  },
  {
   "cell_type": "code",
   "execution_count": 26,
   "metadata": {},
   "outputs": [],
   "source": []
  },
  {
   "cell_type": "markdown",
   "metadata": {},
   "source": [
    "Bonus question just for fun: Make a histogram that shows the distribution of population size for cities and towns. Consider plotting the y-axis on a log scale."
   ]
  },
  {
   "cell_type": "code",
   "execution_count": 27,
   "metadata": {},
   "outputs": [],
   "source": []
  },
  {
   "cell_type": "markdown",
   "metadata": {},
   "source": [
    "*Elements of Data Science*\n",
    "\n",
    "Copyright 2022 Allen Downey\n",
    "\n",
    "License: [Creative Commons Attribution-NonCommercial-ShareAlike 4.0 International](https://creativecommons.org/licenses/by-nc-sa/4.0/)"
   ]
  },
  {
   "cell_type": "code",
   "execution_count": null,
   "metadata": {},
   "outputs": [],
   "source": []
  }
 ],
 "metadata": {
  "kernelspec": {
   "display_name": "Python 3",
   "language": "python",
   "name": "python3"
  },
  "language_info": {
   "codemirror_mode": {
    "name": "ipython",
    "version": 3
   },
   "file_extension": ".py",
   "mimetype": "text/x-python",
   "name": "python",
   "nbconvert_exporter": "python",
   "pygments_lexer": "ipython3",
   "version": "3.7.7"
  }
 },
 "nbformat": 4,
 "nbformat_minor": 4
}
